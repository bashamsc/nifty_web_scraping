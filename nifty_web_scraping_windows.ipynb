{
 "cells": [
  {
   "cell_type": "code",
   "execution_count": 1,
   "metadata": {
    "id": "_2ON48vLYqKF"
   },
   "outputs": [],
   "source": [
    "import pandas as pd\n",
    "import numpy as np\n",
    "import itertools\n",
    "import math\n",
    "\n",
    "#Plotting libraries\n",
    "#import matplotlib.pyplot as plt\n",
    "#import seaborn as sns\n",
    "\n",
    "#Web Scappinlibraries\n",
    "import requests\n",
    "from bs4 import BeautifulSoup\n",
    "from selenium import webdriver\n",
    "from datetime import datetime\n",
    "from datetime import timedelta\n",
    "from datetime import date\n",
    "import time\n",
    "\n",
    "#plt.style.use('seaborn-white')\n",
    "#plt.style.use('fivethirtyeight')\n",
    "#pd.plotting.register_matplotlib_converters()\n",
    "#%matplotlib inline\n",
    "\n",
    "#Model libraries\n",
    "\n",
    "\n",
    "#from datetime import timedelta\n",
    "from orbit.models.dlt import DLTMAP, DLTAggregated, DLTFull\n",
    "#from orbit.diagnostics.plot import plot_predicted_data\n",
    "#from orbit.diagnostics.plot import plot_predicted_components\n",
    " \n",
    "\n",
    "import warnings\n",
    "warnings.filterwarnings(\"ignore\")\n"
   ]
  },
  {
   "cell_type": "code",
   "execution_count": 2,
   "metadata": {},
   "outputs": [],
   "source": [
    "#Preparing  Start Date and End Date for fetching data from investing.com\n",
    "today  = date.today()\n",
    "#yesterday = today - timedelta(days = 1)\n",
    "#enddate = time.mktime(yesterday.timetuple())\n",
    "enddate = time.mktime(today.timetuple())\n",
    "enddate = int(enddate)\n",
    "\n",
    "starting_day_of_current_year = datetime.now().date().replace(month=1, day=1)\n",
    "starting_day_of_current_year\n",
    "stdate=time.mktime(starting_day_of_current_year.timetuple())\n",
    "stdate=int(stdate)"
   ]
  },
  {
   "cell_type": "code",
   "execution_count": 3,
   "metadata": {},
   "outputs": [],
   "source": [
    "url=\"https://in.investing.com/indices/s-p-cnx-nifty-historical-data?end_date={}&st_date={}\".format(enddate,stdate)"
   ]
  },
  {
   "cell_type": "code",
   "execution_count": 4,
   "metadata": {},
   "outputs": [
    {
     "data": {
      "text/plain": [
       "'https://in.investing.com/indices/s-p-cnx-nifty-historical-data?end_date=1653762600&st_date=1640975400'"
      ]
     },
     "execution_count": 4,
     "metadata": {},
     "output_type": "execute_result"
    }
   ],
   "source": [
    "url"
   ]
  },
  {
   "cell_type": "code",
   "execution_count": 5,
   "metadata": {},
   "outputs": [],
   "source": [
    "#Loading Chrome Driver to fetch data\n",
    "driver = webdriver.Chrome()"
   ]
  },
  {
   "cell_type": "code",
   "execution_count": 6,
   "metadata": {},
   "outputs": [],
   "source": [
    "driver.get(url)"
   ]
  },
  {
   "cell_type": "code",
   "execution_count": 7,
   "metadata": {},
   "outputs": [],
   "source": [
    "#Get Page Content Data\n",
    "content = driver.page_source\n",
    "soup = BeautifulSoup(content)"
   ]
  },
  {
   "cell_type": "code",
   "execution_count": 8,
   "metadata": {},
   "outputs": [],
   "source": [
    "#Loading Dates Column\n",
    "date=[]\n",
    "for a in soup.findAll('td', attrs={'class':'col-rowDate'}):\n",
    "    date_txt=a.find('span', attrs={'class':'text'})\n",
    "    date.append(date_txt.text)"
   ]
  },
  {
   "cell_type": "code",
   "execution_count": 9,
   "metadata": {},
   "outputs": [],
   "source": [
    "#Loading Closing Prices\n",
    "close=[]\n",
    "for a in soup.findAll('td', attrs={'class':'col-last_close'}):\n",
    "    close_txt=a.find('span', attrs={'class':'text'})\n",
    "    close.append(close_txt.text)"
   ]
  },
  {
   "cell_type": "code",
   "execution_count": 10,
   "metadata": {},
   "outputs": [],
   "source": [
    "#Loading Open Prices\n",
    "open=[]\n",
    "for a in soup.findAll('td', attrs={'class':'col-last_open'}):\n",
    "    open_txt=a.find('span', attrs={'class':'text'})\n",
    "    open.append(open_txt.text)"
   ]
  },
  {
   "cell_type": "code",
   "execution_count": 11,
   "metadata": {},
   "outputs": [],
   "source": [
    "#Loading High Prices\n",
    "high=[]\n",
    "for a in soup.findAll('td', attrs={'class':'col-last_max'}):\n",
    "    high_txt=a.find('span', attrs={'class':'text'})\n",
    "    high.append(high_txt.text)"
   ]
  },
  {
   "cell_type": "code",
   "execution_count": 12,
   "metadata": {},
   "outputs": [],
   "source": [
    "#Loading Low Prices\n",
    "low=[]\n",
    "for a in soup.findAll('td', attrs={'class':'col-last_min'}):\n",
    "    low_txt=a.find('span', attrs={'class':'text'})\n",
    "    low.append(low_txt.text)"
   ]
  },
  {
   "cell_type": "code",
   "execution_count": 13,
   "metadata": {
    "id": "HcM2fuxEYwvI"
   },
   "outputs": [],
   "source": [
    "## Prepare DataFrame\n",
    "\n",
    "df_nifty = pd.DataFrame({'Date':date,'Open':open,'High':high,'Low':low,'Close':close}) "
   ]
  },
  {
   "cell_type": "code",
   "execution_count": 14,
   "metadata": {
    "colab": {
     "base_uri": "https://localhost:8080/",
     "height": 206
    },
    "id": "Kyg-w6baaAmm",
    "outputId": "3d70ce5d-40af-4422-d878-4543f08a45a6"
   },
   "outputs": [
    {
     "data": {
      "text/html": [
       "<div>\n",
       "<style scoped>\n",
       "    .dataframe tbody tr th:only-of-type {\n",
       "        vertical-align: middle;\n",
       "    }\n",
       "\n",
       "    .dataframe tbody tr th {\n",
       "        vertical-align: top;\n",
       "    }\n",
       "\n",
       "    .dataframe thead th {\n",
       "        text-align: right;\n",
       "    }\n",
       "</style>\n",
       "<table border=\"1\" class=\"dataframe\">\n",
       "  <thead>\n",
       "    <tr style=\"text-align: right;\">\n",
       "      <th></th>\n",
       "      <th>Date</th>\n",
       "      <th>Open</th>\n",
       "      <th>High</th>\n",
       "      <th>Low</th>\n",
       "      <th>Close</th>\n",
       "    </tr>\n",
       "  </thead>\n",
       "  <tbody>\n",
       "    <tr>\n",
       "      <th>0</th>\n",
       "      <td>May 27, 2022</td>\n",
       "      <td>16,296.60</td>\n",
       "      <td>16,370.60</td>\n",
       "      <td>16,221.95</td>\n",
       "      <td>16,352.45</td>\n",
       "    </tr>\n",
       "    <tr>\n",
       "      <th>1</th>\n",
       "      <td>May 26, 2022</td>\n",
       "      <td>16,105.00</td>\n",
       "      <td>16,204.45</td>\n",
       "      <td>15,903.70</td>\n",
       "      <td>16,170.15</td>\n",
       "    </tr>\n",
       "    <tr>\n",
       "      <th>2</th>\n",
       "      <td>May 25, 2022</td>\n",
       "      <td>16,196.35</td>\n",
       "      <td>16,223.35</td>\n",
       "      <td>16,006.95</td>\n",
       "      <td>16,025.80</td>\n",
       "    </tr>\n",
       "    <tr>\n",
       "      <th>3</th>\n",
       "      <td>May 24, 2022</td>\n",
       "      <td>16,225.55</td>\n",
       "      <td>16,262.80</td>\n",
       "      <td>16,078.60</td>\n",
       "      <td>16,125.15</td>\n",
       "    </tr>\n",
       "    <tr>\n",
       "      <th>4</th>\n",
       "      <td>May 23, 2022</td>\n",
       "      <td>16,290.95</td>\n",
       "      <td>16,414.70</td>\n",
       "      <td>16,185.75</td>\n",
       "      <td>16,214.70</td>\n",
       "    </tr>\n",
       "  </tbody>\n",
       "</table>\n",
       "</div>"
      ],
      "text/plain": [
       "           Date       Open       High        Low      Close\n",
       "0  May 27, 2022  16,296.60  16,370.60  16,221.95  16,352.45\n",
       "1  May 26, 2022  16,105.00  16,204.45  15,903.70  16,170.15\n",
       "2  May 25, 2022  16,196.35  16,223.35  16,006.95  16,025.80\n",
       "3  May 24, 2022  16,225.55  16,262.80  16,078.60  16,125.15\n",
       "4  May 23, 2022  16,290.95  16,414.70  16,185.75  16,214.70"
      ]
     },
     "execution_count": 14,
     "metadata": {},
     "output_type": "execute_result"
    }
   ],
   "source": [
    "df_nifty.head()"
   ]
  },
  {
   "cell_type": "code",
   "execution_count": 15,
   "metadata": {
    "id": "gM3Uy6wXZP6f"
   },
   "outputs": [],
   "source": [
    "df_nifty['Date'] = df_nifty['Date'].str.replace(r\",\",\"\")\n",
    "\n",
    "df_nifty['Date']=pd.to_datetime(df_nifty.Date , format = '%b %d %Y')"
   ]
  },
  {
   "cell_type": "code",
   "execution_count": 16,
   "metadata": {
    "id": "3aaM9Ru6wojE"
   },
   "outputs": [],
   "source": [
    "df_nifty=df_nifty.drop_duplicates(subset=\"Date\")"
   ]
  },
  {
   "cell_type": "code",
   "execution_count": 17,
   "metadata": {
    "id": "bNbn7s0AZJUB"
   },
   "outputs": [],
   "source": [
    "#data = df_nifty.drop(['Date'], axis=1)\n",
    "data = df_nifty"
   ]
  },
  {
   "cell_type": "code",
   "execution_count": 18,
   "metadata": {
    "id": "yEpJ3F6DZ837"
   },
   "outputs": [],
   "source": [
    "data['Close']=data['Close'].str.replace(r\",\",\"\").astype('float')\n",
    "data['Open']=data['Open'].str.replace(r\",\",\"\").astype('float')\n",
    "data['High']=data['High'].str.replace(r\",\",\"\").astype('float')\n",
    "data['Low']=data['Low'].str.replace(r\",\",\"\").astype('float')\n",
    "#data['Price']=data['Price'].astype('float')"
   ]
  },
  {
   "cell_type": "code",
   "execution_count": 19,
   "metadata": {
    "id": "fChLEybBzeEM"
   },
   "outputs": [],
   "source": [
    "data=data.fillna(method=\"ffill\")"
   ]
  },
  {
   "cell_type": "code",
   "execution_count": 20,
   "metadata": {
    "colab": {
     "base_uri": "https://localhost:8080/",
     "height": 206
    },
    "id": "G9z2L5cT8vmK",
    "outputId": "ebe2b8ba-0dcb-46c1-9546-e65cca1894ab"
   },
   "outputs": [
    {
     "data": {
      "text/html": [
       "<div>\n",
       "<style scoped>\n",
       "    .dataframe tbody tr th:only-of-type {\n",
       "        vertical-align: middle;\n",
       "    }\n",
       "\n",
       "    .dataframe tbody tr th {\n",
       "        vertical-align: top;\n",
       "    }\n",
       "\n",
       "    .dataframe thead th {\n",
       "        text-align: right;\n",
       "    }\n",
       "</style>\n",
       "<table border=\"1\" class=\"dataframe\">\n",
       "  <thead>\n",
       "    <tr style=\"text-align: right;\">\n",
       "      <th></th>\n",
       "      <th>Date</th>\n",
       "      <th>Open</th>\n",
       "      <th>High</th>\n",
       "      <th>Low</th>\n",
       "      <th>Close</th>\n",
       "    </tr>\n",
       "  </thead>\n",
       "  <tbody>\n",
       "    <tr>\n",
       "      <th>0</th>\n",
       "      <td>2022-05-27</td>\n",
       "      <td>16296.60</td>\n",
       "      <td>16370.60</td>\n",
       "      <td>16221.95</td>\n",
       "      <td>16352.45</td>\n",
       "    </tr>\n",
       "    <tr>\n",
       "      <th>1</th>\n",
       "      <td>2022-05-26</td>\n",
       "      <td>16105.00</td>\n",
       "      <td>16204.45</td>\n",
       "      <td>15903.70</td>\n",
       "      <td>16170.15</td>\n",
       "    </tr>\n",
       "    <tr>\n",
       "      <th>2</th>\n",
       "      <td>2022-05-25</td>\n",
       "      <td>16196.35</td>\n",
       "      <td>16223.35</td>\n",
       "      <td>16006.95</td>\n",
       "      <td>16025.80</td>\n",
       "    </tr>\n",
       "    <tr>\n",
       "      <th>3</th>\n",
       "      <td>2022-05-24</td>\n",
       "      <td>16225.55</td>\n",
       "      <td>16262.80</td>\n",
       "      <td>16078.60</td>\n",
       "      <td>16125.15</td>\n",
       "    </tr>\n",
       "    <tr>\n",
       "      <th>4</th>\n",
       "      <td>2022-05-23</td>\n",
       "      <td>16290.95</td>\n",
       "      <td>16414.70</td>\n",
       "      <td>16185.75</td>\n",
       "      <td>16214.70</td>\n",
       "    </tr>\n",
       "  </tbody>\n",
       "</table>\n",
       "</div>"
      ],
      "text/plain": [
       "        Date      Open      High       Low     Close\n",
       "0 2022-05-27  16296.60  16370.60  16221.95  16352.45\n",
       "1 2022-05-26  16105.00  16204.45  15903.70  16170.15\n",
       "2 2022-05-25  16196.35  16223.35  16006.95  16025.80\n",
       "3 2022-05-24  16225.55  16262.80  16078.60  16125.15\n",
       "4 2022-05-23  16290.95  16414.70  16185.75  16214.70"
      ]
     },
     "execution_count": 20,
     "metadata": {},
     "output_type": "execute_result"
    }
   ],
   "source": [
    "data.head()"
   ]
  },
  {
   "cell_type": "code",
   "execution_count": 21,
   "metadata": {},
   "outputs": [],
   "source": [
    "data=data.sort_values(['Date'], ascending=[True])"
   ]
  },
  {
   "cell_type": "code",
   "execution_count": 22,
   "metadata": {
    "id": "dsO2qwun88wp"
   },
   "outputs": [],
   "source": [
    "data_log =    data[['Open', 'High', 'Low' , 'Close']].apply(np.log)\n",
    "#data_log =    data[['Open', 'High', 'Low' , 'Price']].apply(np.log)"
   ]
  },
  {
   "cell_type": "code",
   "execution_count": 23,
   "metadata": {
    "id": "EcSLO6Lr-ceS"
   },
   "outputs": [
    {
     "data": {
      "text/html": [
       "<div>\n",
       "<style scoped>\n",
       "    .dataframe tbody tr th:only-of-type {\n",
       "        vertical-align: middle;\n",
       "    }\n",
       "\n",
       "    .dataframe tbody tr th {\n",
       "        vertical-align: top;\n",
       "    }\n",
       "\n",
       "    .dataframe thead th {\n",
       "        text-align: right;\n",
       "    }\n",
       "</style>\n",
       "<table border=\"1\" class=\"dataframe\">\n",
       "  <thead>\n",
       "    <tr style=\"text-align: right;\">\n",
       "      <th></th>\n",
       "      <th>Open</th>\n",
       "      <th>High</th>\n",
       "      <th>Low</th>\n",
       "      <th>Close</th>\n",
       "    </tr>\n",
       "  </thead>\n",
       "  <tbody>\n",
       "    <tr>\n",
       "      <th>98</th>\n",
       "      <td>9.763487</td>\n",
       "      <td>9.778301</td>\n",
       "      <td>9.763265</td>\n",
       "      <td>9.777113</td>\n",
       "    </tr>\n",
       "    <tr>\n",
       "      <th>97</th>\n",
       "      <td>9.780269</td>\n",
       "      <td>9.788503</td>\n",
       "      <td>9.775288</td>\n",
       "      <td>9.787249</td>\n",
       "    </tr>\n",
       "    <tr>\n",
       "      <th>96</th>\n",
       "      <td>9.788082</td>\n",
       "      <td>9.795050</td>\n",
       "      <td>9.784076</td>\n",
       "      <td>9.793966</td>\n",
       "    </tr>\n",
       "    <tr>\n",
       "      <th>95</th>\n",
       "      <td>9.785183</td>\n",
       "      <td>9.786839</td>\n",
       "      <td>9.778805</td>\n",
       "      <td>9.783910</td>\n",
       "    </tr>\n",
       "    <tr>\n",
       "      <th>94</th>\n",
       "      <td>9.786819</td>\n",
       "      <td>9.792835</td>\n",
       "      <td>9.781577</td>\n",
       "      <td>9.787667</td>\n",
       "    </tr>\n",
       "  </tbody>\n",
       "</table>\n",
       "</div>"
      ],
      "text/plain": [
       "        Open      High       Low     Close\n",
       "98  9.763487  9.778301  9.763265  9.777113\n",
       "97  9.780269  9.788503  9.775288  9.787249\n",
       "96  9.788082  9.795050  9.784076  9.793966\n",
       "95  9.785183  9.786839  9.778805  9.783910\n",
       "94  9.786819  9.792835  9.781577  9.787667"
      ]
     },
     "execution_count": 23,
     "metadata": {},
     "output_type": "execute_result"
    }
   ],
   "source": [
    "data_log.head()"
   ]
  },
  {
   "cell_type": "code",
   "execution_count": null,
   "metadata": {},
   "outputs": [],
   "source": []
  }
 ],
 "metadata": {
  "colab": {
   "name": "ts_orbit_model_nifty.ipynb",
   "provenance": []
  },
  "kernelspec": {
   "display_name": "Python 3",
   "language": "python",
   "name": "python3"
  },
  "language_info": {
   "codemirror_mode": {
    "name": "ipython",
    "version": 3
   },
   "file_extension": ".py",
   "mimetype": "text/x-python",
   "name": "python",
   "nbconvert_exporter": "python",
   "pygments_lexer": "ipython3",
   "version": "3.8.3"
  }
 },
 "nbformat": 4,
 "nbformat_minor": 1
}
