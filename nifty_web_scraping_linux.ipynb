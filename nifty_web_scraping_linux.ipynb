{
  "cells": [
    {
      "cell_type": "code",
      "source": [
        "!pip install selenium "
      ],
      "metadata": {
        "colab": {
          "base_uri": "https://localhost:8080/"
        },
        "id": "2Z4W07pv04VT",
        "outputId": "d56be799-cb6c-4e62-bd0c-0bc2b44553c9"
      },
      "execution_count": null,
      "outputs": [
        {
          "output_type": "stream",
          "name": "stdout",
          "text": [
            "Collecting selenium\n",
            "  Downloading selenium-4.1.0-py3-none-any.whl (958 kB)\n",
            "\u001b[?25l\r\u001b[K     |▍                               | 10 kB 19.5 MB/s eta 0:00:01\r\u001b[K     |▊                               | 20 kB 22.8 MB/s eta 0:00:01\r\u001b[K     |█                               | 30 kB 14.9 MB/s eta 0:00:01\r\u001b[K     |█▍                              | 40 kB 12.4 MB/s eta 0:00:01\r\u001b[K     |█▊                              | 51 kB 5.5 MB/s eta 0:00:01\r\u001b[K     |██                              | 61 kB 5.6 MB/s eta 0:00:01\r\u001b[K     |██▍                             | 71 kB 5.4 MB/s eta 0:00:01\r\u001b[K     |██▊                             | 81 kB 6.0 MB/s eta 0:00:01\r\u001b[K     |███                             | 92 kB 5.8 MB/s eta 0:00:01\r\u001b[K     |███▍                            | 102 kB 5.0 MB/s eta 0:00:01\r\u001b[K     |███▊                            | 112 kB 5.0 MB/s eta 0:00:01\r\u001b[K     |████                            | 122 kB 5.0 MB/s eta 0:00:01\r\u001b[K     |████▍                           | 133 kB 5.0 MB/s eta 0:00:01\r\u001b[K     |████▉                           | 143 kB 5.0 MB/s eta 0:00:01\r\u001b[K     |█████▏                          | 153 kB 5.0 MB/s eta 0:00:01\r\u001b[K     |█████▌                          | 163 kB 5.0 MB/s eta 0:00:01\r\u001b[K     |█████▉                          | 174 kB 5.0 MB/s eta 0:00:01\r\u001b[K     |██████▏                         | 184 kB 5.0 MB/s eta 0:00:01\r\u001b[K     |██████▌                         | 194 kB 5.0 MB/s eta 0:00:01\r\u001b[K     |██████▉                         | 204 kB 5.0 MB/s eta 0:00:01\r\u001b[K     |███████▏                        | 215 kB 5.0 MB/s eta 0:00:01\r\u001b[K     |███████▌                        | 225 kB 5.0 MB/s eta 0:00:01\r\u001b[K     |███████▉                        | 235 kB 5.0 MB/s eta 0:00:01\r\u001b[K     |████████▏                       | 245 kB 5.0 MB/s eta 0:00:01\r\u001b[K     |████████▌                       | 256 kB 5.0 MB/s eta 0:00:01\r\u001b[K     |████████▉                       | 266 kB 5.0 MB/s eta 0:00:01\r\u001b[K     |█████████▎                      | 276 kB 5.0 MB/s eta 0:00:01\r\u001b[K     |█████████▋                      | 286 kB 5.0 MB/s eta 0:00:01\r\u001b[K     |██████████                      | 296 kB 5.0 MB/s eta 0:00:01\r\u001b[K     |██████████▎                     | 307 kB 5.0 MB/s eta 0:00:01\r\u001b[K     |██████████▋                     | 317 kB 5.0 MB/s eta 0:00:01\r\u001b[K     |███████████                     | 327 kB 5.0 MB/s eta 0:00:01\r\u001b[K     |███████████▎                    | 337 kB 5.0 MB/s eta 0:00:01\r\u001b[K     |███████████▋                    | 348 kB 5.0 MB/s eta 0:00:01\r\u001b[K     |████████████                    | 358 kB 5.0 MB/s eta 0:00:01\r\u001b[K     |████████████▎                   | 368 kB 5.0 MB/s eta 0:00:01\r\u001b[K     |████████████▋                   | 378 kB 5.0 MB/s eta 0:00:01\r\u001b[K     |█████████████                   | 389 kB 5.0 MB/s eta 0:00:01\r\u001b[K     |█████████████▎                  | 399 kB 5.0 MB/s eta 0:00:01\r\u001b[K     |█████████████▊                  | 409 kB 5.0 MB/s eta 0:00:01\r\u001b[K     |██████████████                  | 419 kB 5.0 MB/s eta 0:00:01\r\u001b[K     |██████████████▍                 | 430 kB 5.0 MB/s eta 0:00:01\r\u001b[K     |██████████████▊                 | 440 kB 5.0 MB/s eta 0:00:01\r\u001b[K     |███████████████                 | 450 kB 5.0 MB/s eta 0:00:01\r\u001b[K     |███████████████▍                | 460 kB 5.0 MB/s eta 0:00:01\r\u001b[K     |███████████████▊                | 471 kB 5.0 MB/s eta 0:00:01\r\u001b[K     |████████████████                | 481 kB 5.0 MB/s eta 0:00:01\r\u001b[K     |████████████████▍               | 491 kB 5.0 MB/s eta 0:00:01\r\u001b[K     |████████████████▊               | 501 kB 5.0 MB/s eta 0:00:01\r\u001b[K     |█████████████████               | 512 kB 5.0 MB/s eta 0:00:01\r\u001b[K     |█████████████████▍              | 522 kB 5.0 MB/s eta 0:00:01\r\u001b[K     |█████████████████▊              | 532 kB 5.0 MB/s eta 0:00:01\r\u001b[K     |██████████████████▏             | 542 kB 5.0 MB/s eta 0:00:01\r\u001b[K     |██████████████████▌             | 552 kB 5.0 MB/s eta 0:00:01\r\u001b[K     |██████████████████▉             | 563 kB 5.0 MB/s eta 0:00:01\r\u001b[K     |███████████████████▏            | 573 kB 5.0 MB/s eta 0:00:01\r\u001b[K     |███████████████████▌            | 583 kB 5.0 MB/s eta 0:00:01\r\u001b[K     |███████████████████▉            | 593 kB 5.0 MB/s eta 0:00:01\r\u001b[K     |████████████████████▏           | 604 kB 5.0 MB/s eta 0:00:01\r\u001b[K     |████████████████████▌           | 614 kB 5.0 MB/s eta 0:00:01\r\u001b[K     |████████████████████▉           | 624 kB 5.0 MB/s eta 0:00:01\r\u001b[K     |█████████████████████▏          | 634 kB 5.0 MB/s eta 0:00:01\r\u001b[K     |█████████████████████▌          | 645 kB 5.0 MB/s eta 0:00:01\r\u001b[K     |█████████████████████▉          | 655 kB 5.0 MB/s eta 0:00:01\r\u001b[K     |██████████████████████▏         | 665 kB 5.0 MB/s eta 0:00:01\r\u001b[K     |██████████████████████▋         | 675 kB 5.0 MB/s eta 0:00:01\r\u001b[K     |███████████████████████         | 686 kB 5.0 MB/s eta 0:00:01\r\u001b[K     |███████████████████████▎        | 696 kB 5.0 MB/s eta 0:00:01\r\u001b[K     |███████████████████████▋        | 706 kB 5.0 MB/s eta 0:00:01\r\u001b[K     |████████████████████████        | 716 kB 5.0 MB/s eta 0:00:01\r\u001b[K     |████████████████████████▎       | 727 kB 5.0 MB/s eta 0:00:01\r\u001b[K     |████████████████████████▋       | 737 kB 5.0 MB/s eta 0:00:01\r\u001b[K     |█████████████████████████       | 747 kB 5.0 MB/s eta 0:00:01\r\u001b[K     |█████████████████████████▎      | 757 kB 5.0 MB/s eta 0:00:01\r\u001b[K     |█████████████████████████▋      | 768 kB 5.0 MB/s eta 0:00:01\r\u001b[K     |██████████████████████████      | 778 kB 5.0 MB/s eta 0:00:01\r\u001b[K     |██████████████████████████▎     | 788 kB 5.0 MB/s eta 0:00:01\r\u001b[K     |██████████████████████████▋     | 798 kB 5.0 MB/s eta 0:00:01\r\u001b[K     |███████████████████████████     | 808 kB 5.0 MB/s eta 0:00:01\r\u001b[K     |███████████████████████████▍    | 819 kB 5.0 MB/s eta 0:00:01\r\u001b[K     |███████████████████████████▊    | 829 kB 5.0 MB/s eta 0:00:01\r\u001b[K     |████████████████████████████    | 839 kB 5.0 MB/s eta 0:00:01\r\u001b[K     |████████████████████████████▍   | 849 kB 5.0 MB/s eta 0:00:01\r\u001b[K     |████████████████████████████▊   | 860 kB 5.0 MB/s eta 0:00:01\r\u001b[K     |█████████████████████████████   | 870 kB 5.0 MB/s eta 0:00:01\r\u001b[K     |█████████████████████████████▍  | 880 kB 5.0 MB/s eta 0:00:01\r\u001b[K     |█████████████████████████████▊  | 890 kB 5.0 MB/s eta 0:00:01\r\u001b[K     |██████████████████████████████  | 901 kB 5.0 MB/s eta 0:00:01\r\u001b[K     |██████████████████████████████▍ | 911 kB 5.0 MB/s eta 0:00:01\r\u001b[K     |██████████████████████████████▊ | 921 kB 5.0 MB/s eta 0:00:01\r\u001b[K     |███████████████████████████████ | 931 kB 5.0 MB/s eta 0:00:01\r\u001b[K     |███████████████████████████████▍| 942 kB 5.0 MB/s eta 0:00:01\r\u001b[K     |███████████████████████████████▉| 952 kB 5.0 MB/s eta 0:00:01\r\u001b[K     |████████████████████████████████| 958 kB 5.0 MB/s \n",
            "\u001b[?25hCollecting trio~=0.17\n",
            "  Downloading trio-0.19.0-py3-none-any.whl (356 kB)\n",
            "\u001b[K     |████████████████████████████████| 356 kB 40.3 MB/s \n",
            "\u001b[?25hCollecting trio-websocket~=0.9\n",
            "  Downloading trio_websocket-0.9.2-py3-none-any.whl (16 kB)\n",
            "Collecting urllib3[secure]~=1.26\n",
            "  Downloading urllib3-1.26.7-py2.py3-none-any.whl (138 kB)\n",
            "\u001b[K     |████████████████████████████████| 138 kB 28.3 MB/s \n",
            "\u001b[?25hRequirement already satisfied: idna in /usr/local/lib/python3.7/dist-packages (from trio~=0.17->selenium) (2.10)\n",
            "Requirement already satisfied: sortedcontainers in /usr/local/lib/python3.7/dist-packages (from trio~=0.17->selenium) (2.4.0)\n",
            "Collecting sniffio\n",
            "  Downloading sniffio-1.2.0-py3-none-any.whl (10 kB)\n",
            "Collecting outcome\n",
            "  Downloading outcome-1.1.0-py2.py3-none-any.whl (9.7 kB)\n",
            "Collecting async-generator>=1.9\n",
            "  Downloading async_generator-1.10-py3-none-any.whl (18 kB)\n",
            "Requirement already satisfied: attrs>=19.2.0 in /usr/local/lib/python3.7/dist-packages (from trio~=0.17->selenium) (21.2.0)\n",
            "Collecting wsproto>=0.14\n",
            "  Downloading wsproto-1.0.0-py3-none-any.whl (24 kB)\n",
            "Collecting pyOpenSSL>=0.14\n",
            "  Downloading pyOpenSSL-21.0.0-py2.py3-none-any.whl (55 kB)\n",
            "\u001b[K     |████████████████████████████████| 55 kB 3.2 MB/s \n",
            "\u001b[?25hCollecting cryptography>=1.3.4\n",
            "  Downloading cryptography-36.0.0-cp36-abi3-manylinux_2_24_x86_64.whl (3.6 MB)\n",
            "\u001b[K     |████████████████████████████████| 3.6 MB 30.8 MB/s \n",
            "\u001b[?25hRequirement already satisfied: certifi in /usr/local/lib/python3.7/dist-packages (from urllib3[secure]~=1.26->selenium) (2021.10.8)\n",
            "Requirement already satisfied: cffi>=1.12 in /usr/local/lib/python3.7/dist-packages (from cryptography>=1.3.4->urllib3[secure]~=1.26->selenium) (1.15.0)\n",
            "Requirement already satisfied: pycparser in /usr/local/lib/python3.7/dist-packages (from cffi>=1.12->cryptography>=1.3.4->urllib3[secure]~=1.26->selenium) (2.21)\n",
            "Requirement already satisfied: six>=1.5.2 in /usr/local/lib/python3.7/dist-packages (from pyOpenSSL>=0.14->urllib3[secure]~=1.26->selenium) (1.15.0)\n",
            "Collecting h11<1,>=0.9.0\n",
            "  Downloading h11-0.12.0-py3-none-any.whl (54 kB)\n",
            "\u001b[K     |████████████████████████████████| 54 kB 2.6 MB/s \n",
            "\u001b[?25hInstalling collected packages: sniffio, outcome, h11, cryptography, async-generator, wsproto, urllib3, trio, pyOpenSSL, trio-websocket, selenium\n",
            "  Attempting uninstall: urllib3\n",
            "    Found existing installation: urllib3 1.24.3\n",
            "    Uninstalling urllib3-1.24.3:\n",
            "      Successfully uninstalled urllib3-1.24.3\n",
            "\u001b[31mERROR: pip's dependency resolver does not currently take into account all the packages that are installed. This behaviour is the source of the following dependency conflicts.\n",
            "requests 2.23.0 requires urllib3!=1.25.0,!=1.25.1,<1.26,>=1.21.1, but you have urllib3 1.26.7 which is incompatible.\n",
            "datascience 0.10.6 requires folium==0.2.1, but you have folium 0.8.3 which is incompatible.\u001b[0m\n",
            "Successfully installed async-generator-1.10 cryptography-36.0.0 h11-0.12.0 outcome-1.1.0 pyOpenSSL-21.0.0 selenium-4.1.0 sniffio-1.2.0 trio-0.19.0 trio-websocket-0.9.2 urllib3-1.26.7 wsproto-1.0.0\n"
          ]
        }
      ]
    },
    {
      "cell_type": "code",
      "execution_count": null,
      "metadata": {
        "id": "_2ON48vLYqKF",
        "colab": {
          "base_uri": "https://localhost:8080/"
        },
        "outputId": "f9a73096-2c35-49c5-8b17-9805038110e5"
      },
      "outputs": [
        {
          "output_type": "stream",
          "name": "stderr",
          "text": [
            "/usr/local/lib/python3.7/dist-packages/requests/__init__.py:91: RequestsDependencyWarning: urllib3 (1.26.7) or chardet (3.0.4) doesn't match a supported version!\n",
            "  RequestsDependencyWarning)\n"
          ]
        }
      ],
      "source": [
        "import pandas as pd\n",
        "import numpy as np\n",
        "import itertools\n",
        "import math\n",
        "\n",
        "\n",
        "\n",
        "#Web Scapping libraries\n",
        "import requests\n",
        "from bs4 import BeautifulSoup\n",
        "from selenium import webdriver\n",
        "from datetime import datetime\n",
        "from datetime import timedelta\n",
        "from datetime import date\n",
        "import time\n",
        "\n",
        "\n",
        "#Model libraries\n",
        "\n",
        "\n",
        "#from datetime import timedelta\n",
        "from orbit.models.dlt import DLTMAP, DLTAggregated, DLTFull\n",
        "#from orbit.diagnostics.plot import plot_predicted_data\n",
        "#from orbit.diagnostics.plot import plot_predicted_components\n",
        " \n",
        "\n",
        "import warnings\n",
        "warnings.filterwarnings(\"ignore\")\n"
      ]
    },
    {
      "cell_type": "code",
      "execution_count": null,
      "metadata": {
        "id": "XuyctxAt0Mvr"
      },
      "outputs": [],
      "source": [
        "#Preparing  Start Date and End Date for fetching data from investing.com\n",
        "today  = date.today()\n",
        "#yesterday = today - timedelta(days = 1)\n",
        "#enddate = time.mktime(yesterday.timetuple())\n",
        "enddate = time.mktime(today.timetuple())\n",
        "enddate = int(enddate)\n",
        "\n",
        "starting_day_of_current_year = datetime.now().date().replace(month=1, day=1)\n",
        "starting_day_of_current_year\n",
        "stdate=time.mktime(starting_day_of_current_year.timetuple())\n",
        "stdate=int(stdate)"
      ]
    },
    {
      "cell_type": "code",
      "execution_count": null,
      "metadata": {
        "id": "duyOiOmN0Mvs"
      },
      "outputs": [],
      "source": [
        "url=\"https://in.investing.com/indices/s-p-cnx-nifty-historical-data?end_date={}&st_date={}\".format(enddate,stdate)"
      ]
    },
    {
      "cell_type": "code",
      "execution_count": null,
      "metadata": {
        "colab": {
          "base_uri": "https://localhost:8080/",
          "height": 35
        },
        "id": "iB-HQ_9F0Mvs",
        "outputId": "a2184868-1826-485f-872f-86b760a6e233"
      },
      "outputs": [
        {
          "output_type": "execute_result",
          "data": {
            "application/vnd.google.colaboratory.intrinsic+json": {
              "type": "string"
            },
            "text/plain": [
              "'https://in.investing.com/indices/s-p-cnx-nifty-historical-data?end_date=1639353600&st_date=1609459200'"
            ]
          },
          "metadata": {},
          "execution_count": 5
        }
      ],
      "source": [
        "url"
      ]
    },
    {
      "cell_type": "code",
      "source": [
        "!apt-get update # to update ubuntu to correctly run apt install\n",
        "!apt install chromium-chromedriver\n"
      ],
      "metadata": {
        "colab": {
          "base_uri": "https://localhost:8080/"
        },
        "id": "n_4gg3pP7lYE",
        "outputId": "d284b815-7bef-4b13-fe52-f2f8b3237d49"
      },
      "execution_count": null,
      "outputs": [
        {
          "output_type": "stream",
          "name": "stdout",
          "text": [
            "\r0% [Working]\r            \rGet:1 https://cloud.r-project.org/bin/linux/ubuntu bionic-cran40/ InRelease [3,626 B]\n",
            "\r0% [Connecting to archive.ubuntu.com (91.189.88.152)] [Waiting for headers] [1 \r0% [Connecting to archive.ubuntu.com (91.189.88.152)] [Waiting for headers] [Co\r                                                                               \rIgn:2 https://developer.download.nvidia.com/compute/cuda/repos/ubuntu1804/x86_64  InRelease\n",
            "\r0% [Connecting to archive.ubuntu.com (91.189.88.152)] [Waiting for headers] [Co\r0% [1 InRelease gpgv 3,626 B] [Connecting to archive.ubuntu.com (91.189.88.152)\r                                                                               \rIgn:3 https://developer.download.nvidia.com/compute/machine-learning/repos/ubuntu1804/x86_64  InRelease\n",
            "\r0% [1 InRelease gpgv 3,626 B] [Connecting to archive.ubuntu.com (91.189.88.152)\r                                                                               \rGet:4 http://security.ubuntu.com/ubuntu bionic-security InRelease [88.7 kB]\n",
            "Hit:5 https://developer.download.nvidia.com/compute/cuda/repos/ubuntu1804/x86_64  Release\n",
            "Hit:6 https://developer.download.nvidia.com/compute/machine-learning/repos/ubuntu1804/x86_64  Release\n",
            "Get:7 http://ppa.launchpad.net/c2d4u.team/c2d4u4.0+/ubuntu bionic InRelease [15.9 kB]\n",
            "Hit:8 http://archive.ubuntu.com/ubuntu bionic InRelease\n",
            "Get:9 https://cloud.r-project.org/bin/linux/ubuntu bionic-cran40/ Packages [73.9 kB]\n",
            "Get:10 http://archive.ubuntu.com/ubuntu bionic-updates InRelease [88.7 kB]\n",
            "Hit:12 http://ppa.launchpad.net/cran/libgit2/ubuntu bionic InRelease\n",
            "Get:14 http://archive.ubuntu.com/ubuntu bionic-backports InRelease [74.6 kB]\n",
            "Get:15 http://ppa.launchpad.net/deadsnakes/ppa/ubuntu bionic InRelease [15.9 kB]\n",
            "Get:16 http://security.ubuntu.com/ubuntu bionic-security/universe amd64 Packages [1,450 kB]\n",
            "Hit:17 http://ppa.launchpad.net/graphics-drivers/ppa/ubuntu bionic InRelease\n",
            "Get:18 http://security.ubuntu.com/ubuntu bionic-security/restricted amd64 Packages [691 kB]\n",
            "Get:19 http://security.ubuntu.com/ubuntu bionic-security/main amd64 Packages [2,461 kB]\n",
            "Get:20 http://ppa.launchpad.net/c2d4u.team/c2d4u4.0+/ubuntu bionic/main Sources [1,820 kB]\n",
            "Get:21 http://archive.ubuntu.com/ubuntu bionic-updates/main amd64 Packages [2,898 kB]\n",
            "Get:22 http://archive.ubuntu.com/ubuntu bionic-updates/universe amd64 Packages [2,228 kB]\n",
            "Get:23 http://ppa.launchpad.net/c2d4u.team/c2d4u4.0+/ubuntu bionic/main amd64 Packages [933 kB]\n",
            "Get:24 http://ppa.launchpad.net/deadsnakes/ppa/ubuntu bionic/main amd64 Packages [45.9 kB]\n",
            "Fetched 12.9 MB in 4s (2,870 kB/s)\n",
            "Reading package lists... Done\n",
            "Reading package lists... Done\n",
            "Building dependency tree       \n",
            "Reading state information... Done\n",
            "The following additional packages will be installed:\n",
            "  chromium-browser chromium-browser-l10n chromium-codecs-ffmpeg-extra\n",
            "Suggested packages:\n",
            "  webaccounts-chromium-extension unity-chromium-extension\n",
            "The following NEW packages will be installed:\n",
            "  chromium-browser chromium-browser-l10n chromium-chromedriver\n",
            "  chromium-codecs-ffmpeg-extra\n",
            "0 upgraded, 4 newly installed, 0 to remove and 62 not upgraded.\n",
            "Need to get 94.0 MB of archives.\n",
            "After this operation, 324 MB of additional disk space will be used.\n",
            "Get:1 http://archive.ubuntu.com/ubuntu bionic-updates/universe amd64 chromium-codecs-ffmpeg-extra amd64 95.0.4638.69-0ubuntu0.18.04.1 [1,135 kB]\n",
            "Get:2 http://archive.ubuntu.com/ubuntu bionic-updates/universe amd64 chromium-browser amd64 95.0.4638.69-0ubuntu0.18.04.1 [83.6 MB]\n",
            "Get:3 http://archive.ubuntu.com/ubuntu bionic-updates/universe amd64 chromium-browser-l10n all 95.0.4638.69-0ubuntu0.18.04.1 [4,249 kB]\n",
            "Get:4 http://archive.ubuntu.com/ubuntu bionic-updates/universe amd64 chromium-chromedriver amd64 95.0.4638.69-0ubuntu0.18.04.1 [4,986 kB]\n",
            "Fetched 94.0 MB in 6s (15.6 MB/s)\n",
            "Selecting previously unselected package chromium-codecs-ffmpeg-extra.\n",
            "(Reading database ... 155222 files and directories currently installed.)\n",
            "Preparing to unpack .../chromium-codecs-ffmpeg-extra_95.0.4638.69-0ubuntu0.18.04.1_amd64.deb ...\n",
            "Unpacking chromium-codecs-ffmpeg-extra (95.0.4638.69-0ubuntu0.18.04.1) ...\n",
            "Selecting previously unselected package chromium-browser.\n",
            "Preparing to unpack .../chromium-browser_95.0.4638.69-0ubuntu0.18.04.1_amd64.deb ...\n",
            "Unpacking chromium-browser (95.0.4638.69-0ubuntu0.18.04.1) ...\n",
            "Selecting previously unselected package chromium-browser-l10n.\n",
            "Preparing to unpack .../chromium-browser-l10n_95.0.4638.69-0ubuntu0.18.04.1_all.deb ...\n",
            "Unpacking chromium-browser-l10n (95.0.4638.69-0ubuntu0.18.04.1) ...\n",
            "Selecting previously unselected package chromium-chromedriver.\n",
            "Preparing to unpack .../chromium-chromedriver_95.0.4638.69-0ubuntu0.18.04.1_amd64.deb ...\n",
            "Unpacking chromium-chromedriver (95.0.4638.69-0ubuntu0.18.04.1) ...\n",
            "Setting up chromium-codecs-ffmpeg-extra (95.0.4638.69-0ubuntu0.18.04.1) ...\n",
            "Setting up chromium-browser (95.0.4638.69-0ubuntu0.18.04.1) ...\n",
            "update-alternatives: using /usr/bin/chromium-browser to provide /usr/bin/x-www-browser (x-www-browser) in auto mode\n",
            "update-alternatives: using /usr/bin/chromium-browser to provide /usr/bin/gnome-www-browser (gnome-www-browser) in auto mode\n",
            "Setting up chromium-chromedriver (95.0.4638.69-0ubuntu0.18.04.1) ...\n",
            "Setting up chromium-browser-l10n (95.0.4638.69-0ubuntu0.18.04.1) ...\n",
            "Processing triggers for man-db (2.8.3-2ubuntu0.1) ...\n",
            "Processing triggers for hicolor-icon-theme (0.17-2) ...\n",
            "Processing triggers for mime-support (3.60ubuntu1) ...\n",
            "Processing triggers for libc-bin (2.27-3ubuntu1.3) ...\n",
            "/sbin/ldconfig.real: /usr/local/lib/python3.7/dist-packages/ideep4py/lib/libmkldnn.so.0 is not a symbolic link\n",
            "\n"
          ]
        }
      ]
    },
    {
      "cell_type": "code",
      "source": [
        "!cp /usr/lib/chromium-browser/chromedriver /usr/bin\n"
      ],
      "metadata": {
        "colab": {
          "base_uri": "https://localhost:8080/"
        },
        "id": "tR96Aw1w7ofR",
        "outputId": "48811838-40a9-4307-b199-84b81dc01a56"
      },
      "execution_count": null,
      "outputs": [
        {
          "output_type": "stream",
          "name": "stdout",
          "text": [
            "cp: '/usr/lib/chromium-browser/chromedriver' and '/usr/bin/chromedriver' are the same file\n"
          ]
        }
      ]
    },
    {
      "cell_type": "code",
      "source": [
        "import sys\n",
        "sys.path.insert(0,'/usr/lib/chromium-browser/chromedriver')"
      ],
      "metadata": {
        "id": "Dn_6ogpK-VJE"
      },
      "execution_count": null,
      "outputs": []
    },
    {
      "cell_type": "code",
      "execution_count": null,
      "metadata": {
        "id": "tN23jl-x0Mvt"
      },
      "outputs": [],
      "source": [
        "#Loading Chrome Driver to fetch data\n",
        "chrome_options = webdriver.ChromeOptions()\n",
        "chrome_options.add_argument('--headless')\n",
        "chrome_options.add_argument('--no-sandbox')\n",
        "chrome_options.add_argument('--disable-dev-shm-usage')\n",
        "driver = webdriver.Chrome('chromedriver',chrome_options=chrome_options)"
      ]
    },
    {
      "cell_type": "code",
      "execution_count": null,
      "metadata": {
        "id": "Bu27gAMw0Mvu"
      },
      "outputs": [],
      "source": [
        "driver.get(url)"
      ]
    },
    {
      "cell_type": "code",
      "execution_count": null,
      "metadata": {
        "id": "pt8_Kf0a0Mvu"
      },
      "outputs": [],
      "source": [
        "#Get Page Content Data\n",
        "content = driver.page_source\n",
        "soup = BeautifulSoup(content)"
      ]
    },
    {
      "cell_type": "code",
      "execution_count": null,
      "metadata": {
        "id": "vn2bwJ380Mvv"
      },
      "outputs": [],
      "source": [
        "#Loading Dates Column\n",
        "date=[]\n",
        "for a in soup.findAll('td', attrs={'class':'col-rowDate'}):\n",
        "    date_txt=a.find('span', attrs={'class':'text'})\n",
        "    date.append(date_txt.text)"
      ]
    },
    {
      "cell_type": "code",
      "execution_count": null,
      "metadata": {
        "id": "aD1lTelJ0Mvw"
      },
      "outputs": [],
      "source": [
        "#Loading Closing Prices\n",
        "close=[]\n",
        "for a in soup.findAll('td', attrs={'class':'col-last_close'}):\n",
        "    close_txt=a.find('span', attrs={'class':'text'})\n",
        "    close.append(close_txt.text)"
      ]
    },
    {
      "cell_type": "code",
      "execution_count": null,
      "metadata": {
        "id": "iKouoiOe0Mvw"
      },
      "outputs": [],
      "source": [
        "#Loading Open Prices\n",
        "open=[]\n",
        "for a in soup.findAll('td', attrs={'class':'col-last_open'}):\n",
        "    open_txt=a.find('span', attrs={'class':'text'})\n",
        "    open.append(open_txt.text)"
      ]
    },
    {
      "cell_type": "code",
      "execution_count": null,
      "metadata": {
        "id": "Smis_UA60Mvw"
      },
      "outputs": [],
      "source": [
        "#Loading High Prices\n",
        "high=[]\n",
        "for a in soup.findAll('td', attrs={'class':'col-last_max'}):\n",
        "    high_txt=a.find('span', attrs={'class':'text'})\n",
        "    high.append(high_txt.text)"
      ]
    },
    {
      "cell_type": "code",
      "execution_count": null,
      "metadata": {
        "id": "SEdSSL-d0Mvx"
      },
      "outputs": [],
      "source": [
        "#Loading Low Prices\n",
        "low=[]\n",
        "for a in soup.findAll('td', attrs={'class':'col-last_min'}):\n",
        "    low_txt=a.find('span', attrs={'class':'text'})\n",
        "    low.append(low_txt.text)"
      ]
    },
    {
      "cell_type": "code",
      "execution_count": null,
      "metadata": {
        "id": "HcM2fuxEYwvI"
      },
      "outputs": [],
      "source": [
        "## Prepare DataFrame\n",
        "\n",
        "df_nifty = pd.DataFrame({'Date':date,'Open':open,'High':high,'Low':low,'Close':close}) "
      ]
    },
    {
      "cell_type": "code",
      "execution_count": null,
      "metadata": {
        "colab": {
          "base_uri": "https://localhost:8080/",
          "height": 206
        },
        "id": "Kyg-w6baaAmm",
        "outputId": "fb42f13d-ff74-4806-9479-145b9dd2bcf6"
      },
      "outputs": [
        {
          "output_type": "execute_result",
          "data": {
            "text/html": [
              "<div>\n",
              "<style scoped>\n",
              "    .dataframe tbody tr th:only-of-type {\n",
              "        vertical-align: middle;\n",
              "    }\n",
              "\n",
              "    .dataframe tbody tr th {\n",
              "        vertical-align: top;\n",
              "    }\n",
              "\n",
              "    .dataframe thead th {\n",
              "        text-align: right;\n",
              "    }\n",
              "</style>\n",
              "<table border=\"1\" class=\"dataframe\">\n",
              "  <thead>\n",
              "    <tr style=\"text-align: right;\">\n",
              "      <th></th>\n",
              "      <th>Date</th>\n",
              "      <th>Open</th>\n",
              "      <th>High</th>\n",
              "      <th>Low</th>\n",
              "      <th>Close</th>\n",
              "    </tr>\n",
              "  </thead>\n",
              "  <tbody>\n",
              "    <tr>\n",
              "      <th>0</th>\n",
              "      <td>Dec 13, 2021</td>\n",
              "      <td>17,609.55</td>\n",
              "      <td>17,638.65</td>\n",
              "      <td>17,356.75</td>\n",
              "      <td>17,368.25</td>\n",
              "    </tr>\n",
              "    <tr>\n",
              "      <th>1</th>\n",
              "      <td>Dec 10, 2021</td>\n",
              "      <td>17,476.05</td>\n",
              "      <td>17,534.35</td>\n",
              "      <td>17,405.25</td>\n",
              "      <td>17,511.30</td>\n",
              "    </tr>\n",
              "    <tr>\n",
              "      <th>2</th>\n",
              "      <td>Dec 09, 2021</td>\n",
              "      <td>17,524.40</td>\n",
              "      <td>17,543.25</td>\n",
              "      <td>17,379.60</td>\n",
              "      <td>17,516.85</td>\n",
              "    </tr>\n",
              "    <tr>\n",
              "      <th>3</th>\n",
              "      <td>Dec 08, 2021</td>\n",
              "      <td>17,315.25</td>\n",
              "      <td>17,484.60</td>\n",
              "      <td>17,308.95</td>\n",
              "      <td>17,469.75</td>\n",
              "    </tr>\n",
              "    <tr>\n",
              "      <th>4</th>\n",
              "      <td>Dec 07, 2021</td>\n",
              "      <td>17,044.10</td>\n",
              "      <td>17,251.65</td>\n",
              "      <td>16,987.75</td>\n",
              "      <td>17,176.70</td>\n",
              "    </tr>\n",
              "  </tbody>\n",
              "</table>\n",
              "</div>"
            ],
            "text/plain": [
              "           Date       Open       High        Low      Close\n",
              "0  Dec 13, 2021  17,609.55  17,638.65  17,356.75  17,368.25\n",
              "1  Dec 10, 2021  17,476.05  17,534.35  17,405.25  17,511.30\n",
              "2  Dec 09, 2021  17,524.40  17,543.25  17,379.60  17,516.85\n",
              "3  Dec 08, 2021  17,315.25  17,484.60  17,308.95  17,469.75\n",
              "4  Dec 07, 2021  17,044.10  17,251.65  16,987.75  17,176.70"
            ]
          },
          "metadata": {},
          "execution_count": 18
        }
      ],
      "source": [
        "df_nifty.head()"
      ]
    },
    {
      "cell_type": "code",
      "execution_count": null,
      "metadata": {
        "id": "gM3Uy6wXZP6f"
      },
      "outputs": [],
      "source": [
        "df_nifty['Date'] = df_nifty['Date'].str.replace(r\",\",\"\")\n",
        "\n",
        "df_nifty['Date']=pd.to_datetime(df_nifty.Date , format = '%b %d %Y')"
      ]
    },
    {
      "cell_type": "code",
      "execution_count": null,
      "metadata": {
        "id": "3aaM9Ru6wojE"
      },
      "outputs": [],
      "source": [
        "df_nifty=df_nifty.drop_duplicates(subset=\"Date\")"
      ]
    },
    {
      "cell_type": "code",
      "execution_count": null,
      "metadata": {
        "id": "bNbn7s0AZJUB"
      },
      "outputs": [],
      "source": [
        "#data = df_nifty.drop(['Date'], axis=1)\n",
        "data = df_nifty"
      ]
    },
    {
      "cell_type": "code",
      "execution_count": null,
      "metadata": {
        "id": "yEpJ3F6DZ837"
      },
      "outputs": [],
      "source": [
        "data['Close']=data['Close'].str.replace(r\",\",\"\").astype('float')\n",
        "data['Open']=data['Open'].str.replace(r\",\",\"\").astype('float')\n",
        "data['High']=data['High'].str.replace(r\",\",\"\").astype('float')\n",
        "data['Low']=data['Low'].str.replace(r\",\",\"\").astype('float')\n",
        "#data['Price']=data['Price'].astype('float')"
      ]
    },
    {
      "cell_type": "code",
      "execution_count": null,
      "metadata": {
        "id": "fChLEybBzeEM"
      },
      "outputs": [],
      "source": [
        "data=data.fillna(method=\"ffill\")"
      ]
    },
    {
      "cell_type": "code",
      "execution_count": null,
      "metadata": {
        "colab": {
          "base_uri": "https://localhost:8080/",
          "height": 206
        },
        "id": "G9z2L5cT8vmK",
        "outputId": "87e38240-30d4-44ac-eb5f-3cda3b7cd8be"
      },
      "outputs": [
        {
          "output_type": "execute_result",
          "data": {
            "text/html": [
              "<div>\n",
              "<style scoped>\n",
              "    .dataframe tbody tr th:only-of-type {\n",
              "        vertical-align: middle;\n",
              "    }\n",
              "\n",
              "    .dataframe tbody tr th {\n",
              "        vertical-align: top;\n",
              "    }\n",
              "\n",
              "    .dataframe thead th {\n",
              "        text-align: right;\n",
              "    }\n",
              "</style>\n",
              "<table border=\"1\" class=\"dataframe\">\n",
              "  <thead>\n",
              "    <tr style=\"text-align: right;\">\n",
              "      <th></th>\n",
              "      <th>Date</th>\n",
              "      <th>Open</th>\n",
              "      <th>High</th>\n",
              "      <th>Low</th>\n",
              "      <th>Close</th>\n",
              "    </tr>\n",
              "  </thead>\n",
              "  <tbody>\n",
              "    <tr>\n",
              "      <th>0</th>\n",
              "      <td>2021-12-13</td>\n",
              "      <td>17609.55</td>\n",
              "      <td>17638.65</td>\n",
              "      <td>17356.75</td>\n",
              "      <td>17368.25</td>\n",
              "    </tr>\n",
              "    <tr>\n",
              "      <th>1</th>\n",
              "      <td>2021-12-10</td>\n",
              "      <td>17476.05</td>\n",
              "      <td>17534.35</td>\n",
              "      <td>17405.25</td>\n",
              "      <td>17511.30</td>\n",
              "    </tr>\n",
              "    <tr>\n",
              "      <th>2</th>\n",
              "      <td>2021-12-09</td>\n",
              "      <td>17524.40</td>\n",
              "      <td>17543.25</td>\n",
              "      <td>17379.60</td>\n",
              "      <td>17516.85</td>\n",
              "    </tr>\n",
              "    <tr>\n",
              "      <th>3</th>\n",
              "      <td>2021-12-08</td>\n",
              "      <td>17315.25</td>\n",
              "      <td>17484.60</td>\n",
              "      <td>17308.95</td>\n",
              "      <td>17469.75</td>\n",
              "    </tr>\n",
              "    <tr>\n",
              "      <th>4</th>\n",
              "      <td>2021-12-07</td>\n",
              "      <td>17044.10</td>\n",
              "      <td>17251.65</td>\n",
              "      <td>16987.75</td>\n",
              "      <td>17176.70</td>\n",
              "    </tr>\n",
              "  </tbody>\n",
              "</table>\n",
              "</div>"
            ],
            "text/plain": [
              "        Date      Open      High       Low     Close\n",
              "0 2021-12-13  17609.55  17638.65  17356.75  17368.25\n",
              "1 2021-12-10  17476.05  17534.35  17405.25  17511.30\n",
              "2 2021-12-09  17524.40  17543.25  17379.60  17516.85\n",
              "3 2021-12-08  17315.25  17484.60  17308.95  17469.75\n",
              "4 2021-12-07  17044.10  17251.65  16987.75  17176.70"
            ]
          },
          "metadata": {},
          "execution_count": 24
        }
      ],
      "source": [
        "data.head()"
      ]
    },
    {
      "cell_type": "code",
      "execution_count": null,
      "metadata": {
        "id": "WgXwE1cF0Mv0"
      },
      "outputs": [],
      "source": [
        "data=data.sort_values(['Date'], ascending=[True])"
      ]
    },
    {
      "cell_type": "code",
      "execution_count": null,
      "metadata": {
        "id": "dsO2qwun88wp"
      },
      "outputs": [],
      "source": [
        "data_log =    data[['Open', 'High', 'Low' , 'Close']].apply(np.log)\n",
        "#data_log =    data[['Open', 'High', 'Low' , 'Price']].apply(np.log)"
      ]
    },
    {
      "cell_type": "code",
      "execution_count": null,
      "metadata": {
        "id": "EcSLO6Lr-ceS"
      },
      "outputs": [],
      "source": [
        "data_log"
      ]
    }
  ],
  "metadata": {
    "colab": {
      "name": "nifty_web_scraping_linux.ipynb",
      "provenance": []
    },
    "kernelspec": {
      "display_name": "Python 3",
      "language": "python",
      "name": "python3"
    },
    "language_info": {
      "codemirror_mode": {
        "name": "ipython",
        "version": 3
      },
      "file_extension": ".py",
      "mimetype": "text/x-python",
      "name": "python",
      "nbconvert_exporter": "python",
      "pygments_lexer": "ipython3",
      "version": "3.8.3"
    }
  },
  "nbformat": 4,
  "nbformat_minor": 0
}